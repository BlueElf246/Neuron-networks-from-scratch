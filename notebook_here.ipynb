{
 "cells": [
  {
   "cell_type": "code",
   "execution_count": 237,
   "id": "d548d621",
   "metadata": {},
   "outputs": [],
   "source": [
    "import numpy as np\n",
    "import matplotlib.pyplot as plt"
   ]
  },
  {
   "cell_type": "code",
   "execution_count": 303,
   "id": "6ff8cccd",
   "metadata": {},
   "outputs": [],
   "source": [
    "def initialize_parameters(layer_dims):\n",
    "    parameters = {}\n",
    "    L = len(layer_dims) # number of layers in the network\n",
    "    \n",
    "    for l in range(1,L):\n",
    "        parameters['W' + str(l)] = np.random.randn(layer_dims[l], layer_dims[l-1])\n",
    "        parameters['b' + str(l)] = np.zeros((layer_dims[l], 1))\n",
    "    return parameters"
   ]
  },
  {
   "cell_type": "code",
   "execution_count": 304,
   "id": "4b07f8ea",
   "metadata": {},
   "outputs": [],
   "source": [
    "def sigmoid(Z):\n",
    "    return 1/(1+np.exp(-Z)), Z\n",
    "def relu(Z):\n",
    "    return np.maximum(Z, 0), Z"
   ]
  },
  {
   "cell_type": "code",
   "execution_count": 305,
   "id": "8d819345",
   "metadata": {},
   "outputs": [],
   "source": [
    "def forward_pass(A, W, b):\n",
    "    Z = np.dot(W, A) + b\n",
    "    cache = (A, W, b)\n",
    "    return Z, cache\n",
    "def linear_activation_forward(A_prev, W, b, activation):\n",
    "    Z, linear_cache = forward_pass(A_prev, W, b)\n",
    "    if activation == 'sigmoid':\n",
    "        A, activation_cache = sigmoid(Z)\n",
    "    if activation == 'relu':\n",
    "        A, activation_cache = relu(Z)\n",
    "    cache = (linear_cache, activation_cache)\n",
    "    return A, cache"
   ]
  },
  {
   "cell_type": "code",
   "execution_count": 306,
   "id": "cc5a33a5",
   "metadata": {},
   "outputs": [],
   "source": [
    "def L_model_forward(X, parameters):\n",
    "    caches = []\n",
    "    A = X\n",
    "    L = len(parameters) // 2\n",
    "    for l in range(1, L):\n",
    "        A_prev = A\n",
    "        A, cache = linear_activation_forward(A_prev, parameters['W'+str(l)], parameters['b'+str(l)], 'relu')\n",
    "        caches.append(cache)\n",
    "    AL, cache = linear_activation_forward(A, parameters['W'+str(L)], parameters['b'+str(L)], 'sigmoid')\n",
    "    caches.append(cache)\n",
    "    return AL, caches"
   ]
  },
  {
   "cell_type": "code",
   "execution_count": 307,
   "id": "c36c3ba9",
   "metadata": {},
   "outputs": [],
   "source": [
    "def compute_cost(AL, Y):\n",
    "    m = Y.shape[1]\n",
    "    cost = (-1/m) * np.sum(np.multiply(Y, np.log(AL)) + np.multiply(1-Y, np.log(1-AL)))\n",
    "    cost = np.squeeze(cost)\n",
    "    return cost"
   ]
  },
  {
   "cell_type": "code",
   "execution_count": 308,
   "id": "be324b64",
   "metadata": {},
   "outputs": [],
   "source": [
    "def relu_backward(dA, activation_cache):\n",
    "    Z = activation_cache\n",
    "    dZ = np.array(dA, copy=True)\n",
    "    dZ[Z <= 0] = 0\n",
    "    return dZ\n",
    "\n",
    "def sigmoid_backward(dA, activation_cache):\n",
    "    Z = activation_cache\n",
    "    s = 1/(1+ np.exp(-Z))\n",
    "    dZ = dA * s * (1-s)\n",
    "    return dZ\n",
    "\n",
    "def linear_backward(dZ, cache):\n",
    "    A_prev, W, b = cache\n",
    "    m = A_prev.shape[1]\n",
    "    \n",
    "    dW = np.dot(dZ, A_prev.T)/m\n",
    "    db = np.sum(dZ, axis=1, keepdims= True) / m\n",
    "    dA_prev = np.dot(W.T, dZ)\n",
    "    \n",
    "    return dA_prev, dW, db\n",
    "def linear_activation_backward(dA, cache, activation):\n",
    "    linear_cache, activation_cache = cache\n",
    "    if activation == 'relu':\n",
    "        dZ = relu_backward(dA, activation_cache)\n",
    "    if activation == 'sigmoid':\n",
    "        dZ = sigmoid_backward(dA, activation_cache)\n",
    "    dA_prev, dW, db = linear_backward(dZ, linear_cache)\n",
    "    \n",
    "    return dA_prev, dW, db"
   ]
  },
  {
   "cell_type": "code",
   "execution_count": 309,
   "id": "5cd03f99",
   "metadata": {},
   "outputs": [],
   "source": [
    "def L_model_backward(AL, Y, caches):\n",
    "    grads = {}\n",
    "    L = len(caches)\n",
    "    m = AL.shape[1]\n",
    "    Y = Y.reshape(AL.shape)\n",
    "    \n",
    "    dAL = - (np.divide(Y,AL) - np.divide(1-Y, 1-AL))\n",
    "    current_cache = caches[-1]\n",
    "    \n",
    "    dA_prev_temp, dW_temp, db_temp = linear_activation_backward(dAL, current_cache, 'sigmoid')\n",
    "    \n",
    "    grads['dA'+str(L-1)] = dA_prev_temp\n",
    "    grads['dW'+str(L)] = dW_temp\n",
    "    grads['db'+str(L)] = db_temp\n",
    "    \n",
    "    for l in reversed(range(L-1)):\n",
    "        current_cache = caches[l]\n",
    "        dA_prev_temp, dW_temp, db_temp = linear_activation_backward(grads['dA'+str(l+1)], current_cache, 'relu')\n",
    "        \n",
    "        grads['dA'+str(l)] = dA_prev_temp\n",
    "        grads['dW'+str(l+1)] = dW_temp\n",
    "        grads['db'+str(l+1)] = db_temp\n",
    "    return grads\n"
   ]
  },
  {
   "cell_type": "code",
   "execution_count": 310,
   "id": "1f408bf7",
   "metadata": {},
   "outputs": [],
   "source": [
    "def update_parameters(params, grads, learning_rate):\n",
    "    parameters = params.copy()\n",
    "    L = len(parameters) // 2\n",
    "    \n",
    "    for l in range(L):\n",
    "        parameters['W' + str(l+1)] = parameters['W' + str(l+1)] - learning_rate*grads['dW' + str(l+1)]\n",
    "        parameters['b' + str(l+1)] = parameters['b' + str(l+1)] - learning_rate*grads['db' + str(l+1)]\n",
    "    return parameters"
   ]
  },
  {
   "cell_type": "code",
   "execution_count": 322,
   "id": "74ae10f0",
   "metadata": {},
   "outputs": [],
   "source": [
    "def L_layer_model(X, Y, layer_dims, learning_rate = 0.001, num_iterations = 3000, print_cost= False):\n",
    "    costs = []\n",
    "    parameters = initialize_parameters(layer_dims)\n",
    "    \n",
    "    for i in range(0, num_iterations):\n",
    "        AL,  caches = L_model_forward(X, parameters)\n",
    "        cost = compute_cost(AL, Y)\n",
    "        grads = L_model_backward(AL, Y, caches)\n",
    "        \n",
    "        parameters = update_parameters(parameters, grads, learning_rate)\n",
    "        \n",
    "        if print_cost and i % 1000 == 0 :\n",
    "            print(cost, f'at iter {i}')\n",
    "            costs.append(cost)\n",
    "    return parameters, cost\n",
    "def predict(X, params):\n",
    "    AL,  caches = L_model_forward(X, params)\n",
    "    l = np.zeros_like(AL)\n",
    "    l[AL>0.9]=1\n",
    "    return l\n",
    "def acc(predict, label):\n",
    "    y_hat = np.squeeze(predict)\n",
    "    label = np.squeeze(label)\n",
    "    c = 0\n",
    "    for x in range(len(y_hat)):\n",
    "        if int(y_hat[x]) == label[x]:\n",
    "            c+=1\n",
    "    return c/y_hat.shape[0]"
   ]
  },
  {
   "cell_type": "code",
   "execution_count": 323,
   "id": "54d3b4f6",
   "metadata": {},
   "outputs": [],
   "source": [
    "from sklearn.datasets import make_moons\n",
    "features, true_labels = make_moons(n_samples = 1000, noise = 0.05)"
   ]
  },
  {
   "cell_type": "code",
   "execution_count": 324,
   "id": "cdb007d5",
   "metadata": {},
   "outputs": [
    {
     "name": "stdout",
     "output_type": "stream",
     "text": [
      "1.1711699442160648 at iter 0\n",
      "0.1996401699175948 at iter 1000\n",
      "0.05121364979027261 at iter 2000\n",
      "0.01490712667482803 at iter 3000\n",
      "0.007923017056800827 at iter 4000\n",
      "0.005164007925247137 at iter 5000\n",
      "0.003794581299415803 at iter 6000\n",
      "0.002983631096035685 at iter 7000\n",
      "0.002452317273818909 at iter 8000\n",
      "0.0020784388939241102 at iter 9000\n"
     ]
    }
   ],
   "source": [
    "X = features\n",
    "Y = np.expand_dims(true_labels, axis=0)\n",
    "layer_dims = [2,4,4,1]\n",
    "params, cost = L_layer_model(X.T, Y, layer_dims, learning_rate = 0.1, num_iterations = 10000, print_cost= True)"
   ]
  },
  {
   "cell_type": "code",
   "execution_count": 327,
   "id": "08c4e93b",
   "metadata": {},
   "outputs": [
    {
     "data": {
      "text/plain": [
       "array([-0.95098421,  0.06225272])"
      ]
     },
     "execution_count": 327,
     "metadata": {},
     "output_type": "execute_result"
    }
   ],
   "source": [
    "X[0]"
   ]
  },
  {
   "cell_type": "code",
   "execution_count": 325,
   "id": "f545d606",
   "metadata": {},
   "outputs": [
    {
     "data": {
      "text/plain": [
       "1.0"
      ]
     },
     "execution_count": 325,
     "metadata": {},
     "output_type": "execute_result"
    }
   ],
   "source": [
    "y_hat = predict(X.T, params)\n",
    "acc(y_hat, Y)"
   ]
  },
  {
   "cell_type": "code",
   "execution_count": 326,
   "id": "c7f719b0",
   "metadata": {},
   "outputs": [
    {
     "data": {
      "text/plain": [
       "{'W1': array([[ 0.66599498, -2.07048096],\n",
       "        [-1.95961655, -0.02695126],\n",
       "        [-1.0793301 , -0.32075754],\n",
       "        [ 3.13020064,  0.54817241]]),\n",
       " 'b1': array([[ 2.0205077 ],\n",
       "        [-0.06599005],\n",
       "        [-0.53239532],\n",
       "        [-0.5984702 ]]),\n",
       " 'W2': array([[ 2.34531671, -0.07713586,  0.37112487, -3.71449736],\n",
       "        [-0.09171985,  1.64925663,  0.20430544,  0.02073711],\n",
       "        [-0.61211549,  1.51523819,  0.97927221, -0.34545541],\n",
       "        [ 1.82240833, -1.37416432,  2.12484406,  1.35656784]]),\n",
       " 'b2': array([[ 2.71383523],\n",
       "        [ 4.1669077 ],\n",
       "        [ 0.37319252],\n",
       "        [-1.65317042]]),\n",
       " 'W3': array([[ 4.7522303 , -4.5553676 , -0.65272086,  2.41732295]]),\n",
       " 'b3': array([[-1.40511813]])}"
      ]
     },
     "execution_count": 326,
     "metadata": {},
     "output_type": "execute_result"
    }
   ],
   "source": [
    "params"
   ]
  },
  {
   "cell_type": "code",
   "execution_count": null,
   "id": "fd989a42",
   "metadata": {},
   "outputs": [],
   "source": []
  }
 ],
 "metadata": {
  "kernelspec": {
   "display_name": "Python 3.8 (tensorflow)\n\n",
   "language": "python",
   "name": "tensorflow"
  },
  "language_info": {
   "codemirror_mode": {
    "name": "ipython",
    "version": 3
   },
   "file_extension": ".py",
   "mimetype": "text/x-python",
   "name": "python",
   "nbconvert_exporter": "python",
   "pygments_lexer": "ipython3",
   "version": "3.8.13"
  }
 },
 "nbformat": 4,
 "nbformat_minor": 5
}
